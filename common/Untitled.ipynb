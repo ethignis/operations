{
 "cells": [
  {
   "cell_type": "code",
   "execution_count": 7,
   "metadata": {},
   "outputs": [
    {
     "ename": "ModuleNotFoundError",
     "evalue": "No module named 'pyproj'",
     "output_type": "error",
     "traceback": [
      "\u001b[0;31m---------------------------------------------------------------------------\u001b[0m",
      "\u001b[0;31mModuleNotFoundError\u001b[0m                       Traceback (most recent call last)",
      "\u001b[0;32m<ipython-input-7-fd6b6030e898>\u001b[0m in \u001b[0;36m<module>\u001b[0;34m()\u001b[0m\n\u001b[1;32m      1\u001b[0m \u001b[0;32mimport\u001b[0m \u001b[0mnumpy\u001b[0m \u001b[0;32mas\u001b[0m \u001b[0mnp\u001b[0m\u001b[0;34m\u001b[0m\u001b[0;34m\u001b[0m\u001b[0m\n\u001b[1;32m      2\u001b[0m \u001b[0;32mimport\u001b[0m \u001b[0msys\u001b[0m\u001b[0;34m\u001b[0m\u001b[0;34m\u001b[0m\u001b[0m\n\u001b[0;32m----> 3\u001b[0;31m \u001b[0;32mfrom\u001b[0m \u001b[0mpyproj\u001b[0m \u001b[0;32mimport\u001b[0m \u001b[0mTransformer\u001b[0m\u001b[0;34m,\u001b[0m \u001b[0mCRS\u001b[0m\u001b[0;34m\u001b[0m\u001b[0;34m\u001b[0m\u001b[0m\n\u001b[0m\u001b[1;32m      4\u001b[0m \u001b[0;34m\u001b[0m\u001b[0m\n\u001b[1;32m      5\u001b[0m '''\n",
      "\u001b[0;31mModuleNotFoundError\u001b[0m: No module named 'pyproj'"
     ]
    }
   ],
   "source": [
    "import numpy as np\n",
    "import sys\n",
    "from pyproj import Transformer, CRS\n",
    "\n",
    "'''\n",
    "@functions: rotation matrices\n",
    "@param: angle given in degree\n",
    "@output: corresponding rotation matrices\n",
    "'''\n",
    "def roll(angle):\n",
    "    angle = np.radians(angle)\n",
    "    return np.array([[np.cos(angle),-np.sin(angle),0],[np.sin(angle),np.cos(angle),0],[0,0,1]])\n",
    "\n",
    "def yaw(angle):\n",
    "    angle = np.radians(angle)\n",
    "    return np.array([[1,0,0],[0,np.cos(angle),-np.sin(angle)],[0,np.sin(angle),np.cos(angle)]])\n",
    "\n",
    "def pitch(angle):\n",
    "    angle = np.radians(angle)\n",
    "    return np.array([[np.cos(angle),0,np.sin(angle)],[0,1,0],[-np.sin(angle),0,np.cos(angle)]])\n",
    "\n",
    "'''\n",
    "@function: convert the GPS location into the flat rectangular grid \n",
    "           by using the projection from WGS86 to LV03 -> ONLY SUITABLE FOR SWITZERLAND!\n",
    "@param: gps - [lat, lng, alt]\n",
    "        lat - latitude\n",
    "        lng - longitude\n",
    "        alt - altitude\n",
    "@output: the projected location of the object in LV03 Eucledian coordinate\n",
    "'''\n",
    "def gps2world(gps):\n",
    "    lat = gps[0]\n",
    "    lng = gps[1]\n",
    "    alt = gps[2]\n",
    "    # 4326 is the identifier for WGS 86\n",
    "    crs_4326 = CRS.from_epsg(4326) \n",
    "    # 21781 is the identifier for LV03/CH1903\n",
    "    crs_21781 = CRS.from_epsg(21781)\n",
    "    transformer_4326_2_21781 = Transformer.from_crs(crs_4326,crs_21781)\n",
    "    pos = transformer_4326_2_21781.transform(lat,lng)\n",
    "    return np.concatenate([np.array(pos),alt],axis=None)\n",
    "\n",
    "'''\n",
    "@function: convert the into the flat rectangular grid GPS location\n",
    "           by using the projection from LV03 to WGS86 -> ONLY SUITABLE FOR SWITZERLAND!\n",
    "@param: world - [x,y,z]\n",
    "        x - x-axis\n",
    "        y - y-axis\n",
    "        z - z-axis\n",
    "@output: the projected location of the object in gps coordinate\n",
    "'''\n",
    "def world2gps(world):\n",
    "    x = world[0]\n",
    "    y = world[1]\n",
    "    z = world[2]\n",
    "    # 4326 is the identifier for WGS 86\n",
    "    crs_4326 = CRS.from_epsg(4326) \n",
    "    # 21781 is the identifier for LV03/CH1903\n",
    "    crs_21781 = CRS.from_epsg(21781)\n",
    "    transformer_21781_2_4326 = Transformer.from_crs(crs_21781,crs_4326)\n",
    "    gps = transformer_21781_2_4326.transform(x,y)\n",
    "    return np.concatenate([np.array(gps),z],axis=None)\n",
    "\n",
    "'''\n",
    "@function: convert the world coordinate into the body coordinate\n",
    "@param: R - the rotation matrix from world to body\n",
    "        t - the translation vector world to body\n",
    "        x_in - the input vector in the inhomogeneous coordinate\n",
    "        n - the dimension of the input vector\n",
    "        init - the initial point in\n",
    "@output: the object in the body coordinate\n",
    "@TODO: ADD R AND T AS DEFAULT VALUE\n",
    "'''\n",
    "def world2body(x_in, init):\n",
    "    R = init.yaw(init.angle)\n",
    "    t = init.world\n",
    "    return np.dot(get_transformation_matrix(R,t),x_in)\n",
    "\n",
    "def body2world(x_in, init):\n",
    "    R = init.yaw(init.angle)\n",
    "    t = init.world\n",
    "    return np.dot(np.linalg.inv(get_transformation_matrix(R,t)),x_in)\n"
   ]
  },
  {
   "cell_type": "code",
   "execution_count": 6,
   "metadata": {},
   "outputs": [
    {
     "name": "stdout",
     "output_type": "stream",
     "text": [
      "Collecting pyproj\n",
      "  Using cached https://files.pythonhosted.org/packages/2c/12/7a8cca32506747c05ffd5c6ba556cf8435754af0939906cbcc7fa5802ea3/pyproj-3.0.1.tar.gz\n",
      "    Complete output from command python setup.py egg_info:\n",
      "    ERROR: Minimum supported PROJ version is 7.2.0, installed version is 4.9.3. For more information see: https://pyproj4.github.io/pyproj/stable/installation.html\n",
      "    \n",
      "    ----------------------------------------\n",
      "\u001b[31mCommand \"python setup.py egg_info\" failed with error code 1 in /tmp/pip-build-_7ypcpz4/pyproj/\u001b[0m\n"
     ]
    }
   ],
   "source": [
    "!pip3 install pyproj"
   ]
  }
 ],
 "metadata": {
  "kernelspec": {
   "display_name": "Python 3",
   "language": "python",
   "name": "python3"
  },
  "language_info": {
   "codemirror_mode": {
    "name": "ipython",
    "version": 3
   },
   "file_extension": ".py",
   "mimetype": "text/x-python",
   "name": "python",
   "nbconvert_exporter": "python",
   "pygments_lexer": "ipython3",
   "version": "3.6.9"
  }
 },
 "nbformat": 4,
 "nbformat_minor": 2
}
